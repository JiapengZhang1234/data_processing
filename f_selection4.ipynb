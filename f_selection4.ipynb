{
 "cells": [
  {
   "cell_type": "code",
   "execution_count": 4,
   "metadata": {},
   "outputs": [],
   "source": [
    "import numpy as np\n",
    "import pandas as pd\n",
    "import matplotlib as plt\n",
    "import seaborn as sns\n",
    "\n",
    "#导入数据\n",
    "#葡萄牙银行市场营销数据\n",
    "path = r'D:\\DataSet\\digit_recognizer\\train.csv'\n",
    "data = pd.read_csv(path)"
   ]
  },
  {
   "cell_type": "code",
   "execution_count": 5,
   "metadata": {},
   "outputs": [
    {
     "data": {
      "text/html": [
       "<div>\n",
       "<style scoped>\n",
       "    .dataframe tbody tr th:only-of-type {\n",
       "        vertical-align: middle;\n",
       "    }\n",
       "\n",
       "    .dataframe tbody tr th {\n",
       "        vertical-align: top;\n",
       "    }\n",
       "\n",
       "    .dataframe thead th {\n",
       "        text-align: right;\n",
       "    }\n",
       "</style>\n",
       "<table border=\"1\" class=\"dataframe\">\n",
       "  <thead>\n",
       "    <tr style=\"text-align: right;\">\n",
       "      <th></th>\n",
       "      <th>label</th>\n",
       "      <th>pixel0</th>\n",
       "      <th>pixel1</th>\n",
       "      <th>pixel2</th>\n",
       "      <th>pixel3</th>\n",
       "      <th>pixel4</th>\n",
       "      <th>pixel5</th>\n",
       "      <th>pixel6</th>\n",
       "      <th>pixel7</th>\n",
       "      <th>pixel8</th>\n",
       "      <th>...</th>\n",
       "      <th>pixel774</th>\n",
       "      <th>pixel775</th>\n",
       "      <th>pixel776</th>\n",
       "      <th>pixel777</th>\n",
       "      <th>pixel778</th>\n",
       "      <th>pixel779</th>\n",
       "      <th>pixel780</th>\n",
       "      <th>pixel781</th>\n",
       "      <th>pixel782</th>\n",
       "      <th>pixel783</th>\n",
       "    </tr>\n",
       "  </thead>\n",
       "  <tbody>\n",
       "    <tr>\n",
       "      <th>0</th>\n",
       "      <td>1</td>\n",
       "      <td>0</td>\n",
       "      <td>0</td>\n",
       "      <td>0</td>\n",
       "      <td>0</td>\n",
       "      <td>0</td>\n",
       "      <td>0</td>\n",
       "      <td>0</td>\n",
       "      <td>0</td>\n",
       "      <td>0</td>\n",
       "      <td>...</td>\n",
       "      <td>0</td>\n",
       "      <td>0</td>\n",
       "      <td>0</td>\n",
       "      <td>0</td>\n",
       "      <td>0</td>\n",
       "      <td>0</td>\n",
       "      <td>0</td>\n",
       "      <td>0</td>\n",
       "      <td>0</td>\n",
       "      <td>0</td>\n",
       "    </tr>\n",
       "    <tr>\n",
       "      <th>1</th>\n",
       "      <td>0</td>\n",
       "      <td>0</td>\n",
       "      <td>0</td>\n",
       "      <td>0</td>\n",
       "      <td>0</td>\n",
       "      <td>0</td>\n",
       "      <td>0</td>\n",
       "      <td>0</td>\n",
       "      <td>0</td>\n",
       "      <td>0</td>\n",
       "      <td>...</td>\n",
       "      <td>0</td>\n",
       "      <td>0</td>\n",
       "      <td>0</td>\n",
       "      <td>0</td>\n",
       "      <td>0</td>\n",
       "      <td>0</td>\n",
       "      <td>0</td>\n",
       "      <td>0</td>\n",
       "      <td>0</td>\n",
       "      <td>0</td>\n",
       "    </tr>\n",
       "    <tr>\n",
       "      <th>2</th>\n",
       "      <td>1</td>\n",
       "      <td>0</td>\n",
       "      <td>0</td>\n",
       "      <td>0</td>\n",
       "      <td>0</td>\n",
       "      <td>0</td>\n",
       "      <td>0</td>\n",
       "      <td>0</td>\n",
       "      <td>0</td>\n",
       "      <td>0</td>\n",
       "      <td>...</td>\n",
       "      <td>0</td>\n",
       "      <td>0</td>\n",
       "      <td>0</td>\n",
       "      <td>0</td>\n",
       "      <td>0</td>\n",
       "      <td>0</td>\n",
       "      <td>0</td>\n",
       "      <td>0</td>\n",
       "      <td>0</td>\n",
       "      <td>0</td>\n",
       "    </tr>\n",
       "    <tr>\n",
       "      <th>3</th>\n",
       "      <td>4</td>\n",
       "      <td>0</td>\n",
       "      <td>0</td>\n",
       "      <td>0</td>\n",
       "      <td>0</td>\n",
       "      <td>0</td>\n",
       "      <td>0</td>\n",
       "      <td>0</td>\n",
       "      <td>0</td>\n",
       "      <td>0</td>\n",
       "      <td>...</td>\n",
       "      <td>0</td>\n",
       "      <td>0</td>\n",
       "      <td>0</td>\n",
       "      <td>0</td>\n",
       "      <td>0</td>\n",
       "      <td>0</td>\n",
       "      <td>0</td>\n",
       "      <td>0</td>\n",
       "      <td>0</td>\n",
       "      <td>0</td>\n",
       "    </tr>\n",
       "    <tr>\n",
       "      <th>4</th>\n",
       "      <td>0</td>\n",
       "      <td>0</td>\n",
       "      <td>0</td>\n",
       "      <td>0</td>\n",
       "      <td>0</td>\n",
       "      <td>0</td>\n",
       "      <td>0</td>\n",
       "      <td>0</td>\n",
       "      <td>0</td>\n",
       "      <td>0</td>\n",
       "      <td>...</td>\n",
       "      <td>0</td>\n",
       "      <td>0</td>\n",
       "      <td>0</td>\n",
       "      <td>0</td>\n",
       "      <td>0</td>\n",
       "      <td>0</td>\n",
       "      <td>0</td>\n",
       "      <td>0</td>\n",
       "      <td>0</td>\n",
       "      <td>0</td>\n",
       "    </tr>\n",
       "  </tbody>\n",
       "</table>\n",
       "<p>5 rows × 785 columns</p>\n",
       "</div>"
      ],
      "text/plain": [
       "   label  pixel0  pixel1  pixel2  pixel3  pixel4  pixel5  pixel6  pixel7  \\\n",
       "0      1       0       0       0       0       0       0       0       0   \n",
       "1      0       0       0       0       0       0       0       0       0   \n",
       "2      1       0       0       0       0       0       0       0       0   \n",
       "3      4       0       0       0       0       0       0       0       0   \n",
       "4      0       0       0       0       0       0       0       0       0   \n",
       "\n",
       "   pixel8  ...  pixel774  pixel775  pixel776  pixel777  pixel778  pixel779  \\\n",
       "0       0  ...         0         0         0         0         0         0   \n",
       "1       0  ...         0         0         0         0         0         0   \n",
       "2       0  ...         0         0         0         0         0         0   \n",
       "3       0  ...         0         0         0         0         0         0   \n",
       "4       0  ...         0         0         0         0         0         0   \n",
       "\n",
       "   pixel780  pixel781  pixel782  pixel783  \n",
       "0         0         0         0         0  \n",
       "1         0         0         0         0  \n",
       "2         0         0         0         0  \n",
       "3         0         0         0         0  \n",
       "4         0         0         0         0  \n",
       "\n",
       "[5 rows x 785 columns]"
      ]
     },
     "execution_count": 5,
     "metadata": {},
     "output_type": "execute_result"
    }
   ],
   "source": [
    "data.head()"
   ]
  },
  {
   "cell_type": "code",
   "execution_count": 6,
   "metadata": {},
   "outputs": [
    {
     "name": "stdout",
     "output_type": "stream",
     "text": [
      "<class 'pandas.core.frame.DataFrame'>\n",
      "RangeIndex: 42000 entries, 0 to 41999\n",
      "Columns: 785 entries, label to pixel783\n",
      "dtypes: int64(785)\n",
      "memory usage: 251.5 MB\n"
     ]
    }
   ],
   "source": [
    "data.info()"
   ]
  },
  {
   "cell_type": "code",
   "execution_count": 7,
   "metadata": {},
   "outputs": [],
   "source": [
    "#将特征与标签从数据集中提取出来\n",
    "X = data.iloc[:,1:]\n",
    "y = data.iloc[:,0]"
   ]
  },
  {
   "cell_type": "code",
   "execution_count": 9,
   "metadata": {},
   "outputs": [
    {
     "name": "stdout",
     "output_type": "stream",
     "text": [
      "(42000, 784)\n",
      "(42000,)\n"
     ]
    }
   ],
   "source": [
    "print(X.shape)\n",
    "print(y.shape)"
   ]
  },
  {
   "cell_type": "code",
   "execution_count": 13,
   "metadata": {},
   "outputs": [
    {
     "data": {
      "text/plain": [
       "0    4132\n",
       "1    4684\n",
       "2    4177\n",
       "3    4351\n",
       "4    4072\n",
       "5    3795\n",
       "6    4137\n",
       "7    4401\n",
       "8    4063\n",
       "9    4188\n",
       "Name: label, dtype: int64"
      ]
     },
     "execution_count": 13,
     "metadata": {},
     "output_type": "execute_result"
    }
   ],
   "source": [
    "y.value_counts().sort_index()"
   ]
  },
  {
   "cell_type": "markdown",
   "metadata": {},
   "source": [
    "也就是说，每个像素点作为一个特征，共有784个特征"
   ]
  },
  {
   "cell_type": "markdown",
   "metadata": {},
   "source": [
    "## 1 特征选择-过滤型"
   ]
  },
  {
   "cell_type": "markdown",
   "metadata": {},
   "source": [
    "### 1.1 方差过滤"
   ]
  },
  {
   "cell_type": "markdown",
   "metadata": {},
   "source": [
    "#### 数组求方差"
   ]
  },
  {
   "cell_type": "code",
   "execution_count": 17,
   "metadata": {},
   "outputs": [
    {
     "data": {
      "text/plain": [
       "18.5"
      ]
     },
     "execution_count": 17,
     "metadata": {},
     "output_type": "execute_result"
    }
   ],
   "source": [
    "#使用numpy求数组的方差\n",
    "a = [5,6,16,9]\n",
    "np.var(a)"
   ]
  },
  {
   "cell_type": "code",
   "execution_count": 19,
   "metadata": {},
   "outputs": [
    {
     "name": "stdout",
     "output_type": "stream",
     "text": [
      "1.25\n",
      "[1. 1.]\n",
      "[0.25 0.25]\n"
     ]
    }
   ],
   "source": [
    "#使用numpy计算矩阵(二维数组)的方差\n",
    "b = [[4,5],[6,7]]\n",
    "\n",
    "#计算矩阵中所有元素的方差\n",
    "print(np.var(b))\n",
    "#计算矩阵中每一列的方差\n",
    "print(np.var(b,axis=0))\n",
    "#计算矩阵中每一行的方差\n",
    "print(np.var(b,axis=1))"
   ]
  },
  {
   "cell_type": "markdown",
   "metadata": {},
   "source": [
    "#### table数据求方差"
   ]
  },
  {
   "cell_type": "code",
   "execution_count": 15,
   "metadata": {},
   "outputs": [
    {
     "data": {
      "text/plain": [
       "0.0"
      ]
     },
     "execution_count": 15,
     "metadata": {},
     "output_type": "execute_result"
    }
   ],
   "source": [
    "#使用numpy求dataframe型数据的方差方差\n",
    "np.var(X['pixel0'])"
   ]
  },
  {
   "cell_type": "code",
   "execution_count": 16,
   "metadata": {},
   "outputs": [
    {
     "data": {
      "text/plain": [
       "pixel0      0.000000\n",
       "pixel1      0.000000\n",
       "pixel2      0.000000\n",
       "pixel3      0.000000\n",
       "pixel4      0.000000\n",
       "              ...   \n",
       "pixel779    0.171611\n",
       "pixel780    0.000000\n",
       "pixel781    0.000000\n",
       "pixel782    0.000000\n",
       "pixel783    0.000000\n",
       "Length: 784, dtype: float64"
      ]
     },
     "execution_count": 16,
     "metadata": {},
     "output_type": "execute_result"
    }
   ],
   "source": [
    "np.var(X)"
   ]
  },
  {
   "cell_type": "code",
   "execution_count": 20,
   "metadata": {},
   "outputs": [
    {
     "data": {
      "text/plain": [
       "pixel0      0.000000\n",
       "pixel1      0.000000\n",
       "pixel2      0.000000\n",
       "pixel3      0.000000\n",
       "pixel4      0.000000\n",
       "              ...   \n",
       "pixel779    0.171615\n",
       "pixel780    0.000000\n",
       "pixel781    0.000000\n",
       "pixel782    0.000000\n",
       "pixel783    0.000000\n",
       "Length: 784, dtype: float64"
      ]
     },
     "execution_count": 20,
     "metadata": {},
     "output_type": "execute_result"
    }
   ],
   "source": [
    "#使用pandas求数据的方差\n",
    "X.var()"
   ]
  },
  {
   "cell_type": "code",
   "execution_count": 21,
   "metadata": {},
   "outputs": [
    {
     "data": {
      "text/plain": [
       "pixel0          0.000000\n",
       "pixel448        0.000000\n",
       "pixel421        0.000000\n",
       "pixel420        0.000000\n",
       "pixel392        0.000000\n",
       "                ...     \n",
       "pixel434    12712.507782\n",
       "pixel461    12750.287623\n",
       "pixel627    12768.248426\n",
       "pixel378    12930.525263\n",
       "pixel406    12961.855023\n",
       "Length: 784, dtype: float64"
      ]
     },
     "execution_count": 21,
     "metadata": {},
     "output_type": "execute_result"
    }
   ],
   "source": [
    "#将特征按照方差进行排序\n",
    "X.var().sort_values()"
   ]
  },
  {
   "cell_type": "markdown",
   "metadata": {},
   "source": [
    "#### 方差过滤的编程实现"
   ]
  },
  {
   "cell_type": "code",
   "execution_count": 24,
   "metadata": {},
   "outputs": [
    {
     "name": "stdout",
     "output_type": "stream",
     "text": [
      "方差过滤后数据的形状： (42000, 708)\n"
     ]
    }
   ],
   "source": [
    "from sklearn.feature_selection import VarianceThreshold\n",
    "#实例化，不填参数阈值默认为0\n",
    "var_selector = VarianceThreshold()\n",
    "#使用实例化好的过滤器进行过滤\n",
    "X_var = var_selector.fit_transform(X) #将方差为0的特征过滤掉\n",
    "print(\"方差过滤后数据的形状：\",X_var.shape)"
   ]
  },
  {
   "cell_type": "code",
   "execution_count": 26,
   "metadata": {},
   "outputs": [
    {
     "name": "stdout",
     "output_type": "stream",
     "text": [
      "(42000, 392)\n"
     ]
    }
   ],
   "source": [
    "#如果想消除方差较低的一半特征呢？\n",
    "med = np.median(X.var())\n",
    "X_var_1 = VarianceThreshold(med).fit_transform(X)\n",
    "print(X_var_1.shape)"
   ]
  },
  {
   "cell_type": "markdown",
   "metadata": {},
   "source": [
    "### 1.2 相关性过滤\n",
    "衡量相关性的指标主要有：  \n",
    "1.相关系数：pearson相关系数、spearson相关系数、kendall相关系数    \n",
    "2.假设检验：  \n",
    "卡方检验(专门针对离散型标签的相关性指标，并且卡方过滤不能计算复数)  \n",
    "F检验(方差齐性检验)    \n",
    "3.互信息值：  \n",
    "互信息法返回的是每个特征与标签之间的互信息量的估计，这个估计量的取值范围为[0,1]  \n",
    "取值为0表示两个变量独立，取值为1则表示两个变量完全相关\n",
    "\n"
   ]
  },
  {
   "cell_type": "markdown",
   "metadata": {},
   "source": [
    "#### 使用相关系数进行过滤"
   ]
  },
  {
   "cell_type": "code",
   "execution_count": 30,
   "metadata": {},
   "outputs": [
    {
     "data": {
      "text/plain": [
       "label       1.000000\n",
       "pixel0           NaN\n",
       "pixel1           NaN\n",
       "pixel2           NaN\n",
       "pixel3           NaN\n",
       "              ...   \n",
       "pixel779    0.006075\n",
       "pixel780         NaN\n",
       "pixel781         NaN\n",
       "pixel782         NaN\n",
       "pixel783         NaN\n",
       "Name: label, Length: 785, dtype: float64"
      ]
     },
     "execution_count": 30,
     "metadata": {},
     "output_type": "execute_result"
    }
   ],
   "source": [
    "#整个表格全部的相关系数\n",
    "data.corr()['label'] \n",
    "#不填参数默认是pearson相关系数\n",
    "#想使用其他的相关系数可以填'spearman','kendall'"
   ]
  },
  {
   "cell_type": "code",
   "execution_count": 37,
   "metadata": {},
   "outputs": [],
   "source": [
    "cor = data.corr()['label'] "
   ]
  },
  {
   "cell_type": "code",
   "execution_count": 43,
   "metadata": {},
   "outputs": [],
   "source": [
    "cor.dropna(inplace=True)"
   ]
  },
  {
   "cell_type": "code",
   "execution_count": 48,
   "metadata": {},
   "outputs": [
    {
     "data": {
      "text/plain": [
       "(709,)"
      ]
     },
     "execution_count": 48,
     "metadata": {},
     "output_type": "execute_result"
    }
   ],
   "source": [
    "cor.shape"
   ]
  },
  {
   "cell_type": "code",
   "execution_count": 47,
   "metadata": {},
   "outputs": [
    {
     "data": {
      "text/plain": [
       "label       1.000000\n",
       "pixel381    0.431506\n",
       "pixel409    0.423767\n",
       "pixel436    0.420922\n",
       "pixel408    0.413855\n",
       "              ...   \n",
       "pixel596   -0.314162\n",
       "pixel539   -0.314998\n",
       "pixel567   -0.315471\n",
       "pixel538   -0.319009\n",
       "pixel510   -0.321565\n",
       "Name: label, Length: 709, dtype: float64"
      ]
     },
     "execution_count": 47,
     "metadata": {},
     "output_type": "execute_result"
    }
   ],
   "source": [
    "cor.sort_values(ascending=False)"
   ]
  },
  {
   "cell_type": "code",
   "execution_count": 49,
   "metadata": {},
   "outputs": [
    {
     "data": {
      "text/plain": [
       "label       1.000000\n",
       "pixel12     0.002242\n",
       "pixel13     0.000703\n",
       "pixel14     0.004151\n",
       "pixel15     0.004151\n",
       "              ...   \n",
       "pixel775    0.025050\n",
       "pixel776    0.019558\n",
       "pixel777    0.014490\n",
       "pixel778    0.009790\n",
       "pixel779    0.006075\n",
       "Name: label, Length: 709, dtype: float64"
      ]
     },
     "execution_count": 49,
     "metadata": {},
     "output_type": "execute_result"
    }
   ],
   "source": [
    "# 相关系数的绝对值\n",
    "cor1=np.abs(cor)"
   ]
  },
  {
   "cell_type": "code",
   "execution_count": 54,
   "metadata": {},
   "outputs": [
    {
     "data": {
      "text/plain": [
       "label       1.000000\n",
       "pixel12     0.002242\n",
       "pixel13    -0.000703\n",
       "pixel14    -0.004151\n",
       "pixel15    -0.004151\n",
       "              ...   \n",
       "pixel775    0.025050\n",
       "pixel776    0.019558\n",
       "pixel777    0.014490\n",
       "pixel778    0.009790\n",
       "pixel779    0.006075\n",
       "Name: label, Length: 709, dtype: float64"
      ]
     },
     "execution_count": 54,
     "metadata": {},
     "output_type": "execute_result"
    }
   ],
   "source": [
    "#这样做，不借助SelectKBest函数也可以完成特征选择\n",
    "#反正就是把相关系数高于某个阈值的挑出来就行\n",
    "cor[cor.index]"
   ]
  },
  {
   "cell_type": "code",
   "execution_count": 36,
   "metadata": {},
   "outputs": [
    {
     "data": {
      "text/plain": [
       "0.006074568784353702"
      ]
     },
     "execution_count": 36,
     "metadata": {},
     "output_type": "execute_result"
    }
   ],
   "source": [
    "#单独两组数据之间的pearson相关系数\n",
    "X['pixel779'].corr(y,method=\"pearson\")"
   ]
  },
  {
   "cell_type": "markdown",
   "metadata": {},
   "source": [
    "\n",
    "#### 使用假设检验方法进行过滤"
   ]
  },
  {
   "cell_type": "code",
   "execution_count": 61,
   "metadata": {},
   "outputs": [],
   "source": [
    "from sklearn.feature_selection import SelectKBest\n",
    "from sklearn.feature_selection import chi2\n",
    "X_new = SelectKBest(chi2, k=2).fit_transform(X, y)"
   ]
  },
  {
   "cell_type": "code",
   "execution_count": 70,
   "metadata": {},
   "outputs": [],
   "source": [
    "#chi2能够返回两个数组，一个是卡方值，一个是p值，用于表达对应相关性的显著性\n",
    "chi_value, chi_pvalue = chi2(X,y)"
   ]
  },
  {
   "cell_type": "code",
   "execution_count": 72,
   "metadata": {},
   "outputs": [
    {
     "data": {
      "text/plain": [
       "(784,)"
      ]
     },
     "execution_count": 72,
     "metadata": {},
     "output_type": "execute_result"
    }
   ],
   "source": [
    "chi_value.shape"
   ]
  },
  {
   "cell_type": "code",
   "execution_count": 76,
   "metadata": {},
   "outputs": [
    {
     "data": {
      "text/html": [
       "<div>\n",
       "<style scoped>\n",
       "    .dataframe tbody tr th:only-of-type {\n",
       "        vertical-align: middle;\n",
       "    }\n",
       "\n",
       "    .dataframe tbody tr th {\n",
       "        vertical-align: top;\n",
       "    }\n",
       "\n",
       "    .dataframe thead th {\n",
       "        text-align: right;\n",
       "    }\n",
       "</style>\n",
       "<table border=\"1\" class=\"dataframe\">\n",
       "  <thead>\n",
       "    <tr style=\"text-align: right;\">\n",
       "      <th></th>\n",
       "      <th>0</th>\n",
       "    </tr>\n",
       "  </thead>\n",
       "  <tbody>\n",
       "    <tr>\n",
       "      <th>pixel0</th>\n",
       "      <td>NaN</td>\n",
       "    </tr>\n",
       "    <tr>\n",
       "      <th>pixel1</th>\n",
       "      <td>NaN</td>\n",
       "    </tr>\n",
       "    <tr>\n",
       "      <th>pixel2</th>\n",
       "      <td>NaN</td>\n",
       "    </tr>\n",
       "    <tr>\n",
       "      <th>pixel3</th>\n",
       "      <td>NaN</td>\n",
       "    </tr>\n",
       "    <tr>\n",
       "      <th>pixel4</th>\n",
       "      <td>NaN</td>\n",
       "    </tr>\n",
       "    <tr>\n",
       "      <th>...</th>\n",
       "      <td>...</td>\n",
       "    </tr>\n",
       "    <tr>\n",
       "      <th>pixel779</th>\n",
       "      <td>1025.194274</td>\n",
       "    </tr>\n",
       "    <tr>\n",
       "      <th>pixel780</th>\n",
       "      <td>NaN</td>\n",
       "    </tr>\n",
       "    <tr>\n",
       "      <th>pixel781</th>\n",
       "      <td>NaN</td>\n",
       "    </tr>\n",
       "    <tr>\n",
       "      <th>pixel782</th>\n",
       "      <td>NaN</td>\n",
       "    </tr>\n",
       "    <tr>\n",
       "      <th>pixel783</th>\n",
       "      <td>NaN</td>\n",
       "    </tr>\n",
       "  </tbody>\n",
       "</table>\n",
       "<p>784 rows × 1 columns</p>\n",
       "</div>"
      ],
      "text/plain": [
       "                    0\n",
       "pixel0            NaN\n",
       "pixel1            NaN\n",
       "pixel2            NaN\n",
       "pixel3            NaN\n",
       "pixel4            NaN\n",
       "...               ...\n",
       "pixel779  1025.194274\n",
       "pixel780          NaN\n",
       "pixel781          NaN\n",
       "pixel782          NaN\n",
       "pixel783          NaN\n",
       "\n",
       "[784 rows x 1 columns]"
      ]
     },
     "execution_count": 76,
     "metadata": {},
     "output_type": "execute_result"
    }
   ],
   "source": [
    "pd.DataFrame(chi_value, index = X.columns)"
   ]
  },
  {
   "cell_type": "code",
   "execution_count": 78,
   "metadata": {},
   "outputs": [
    {
     "name": "stderr",
     "output_type": "stream",
     "text": [
      "D:\\conda\\envs\\py36\\lib\\site-packages\\sklearn\\feature_selection\\_univariate_selection.py:114: UserWarning: Features [  0   1   2   3   4   5   6   7   8   9  10  11  16  17  18  19  20  21\n",
      "  22  23  24  25  26  27  28  29  30  31  52  53  54  55  56  57  82  83\n",
      "  84  85 111 112 139 140 141 168 196 392 420 421 448 476 532 560 644 645\n",
      " 671 672 673 699 700 701 727 728 729 730 731 754 755 756 757 758 759 760\n",
      " 780 781 782 783] are constant.\n",
      "  UserWarning)\n",
      "D:\\conda\\envs\\py36\\lib\\site-packages\\sklearn\\feature_selection\\_univariate_selection.py:115: RuntimeWarning: invalid value encountered in true_divide\n",
      "  f = msb / msw\n"
     ]
    }
   ],
   "source": [
    "#F检验\n",
    "from sklearn.feature_selection import f_classif\n",
    "f_value, f_pvalue = f_classif(X,y)"
   ]
  },
  {
   "cell_type": "code",
   "execution_count": 80,
   "metadata": {},
   "outputs": [
    {
     "data": {
      "text/html": [
       "<div>\n",
       "<style scoped>\n",
       "    .dataframe tbody tr th:only-of-type {\n",
       "        vertical-align: middle;\n",
       "    }\n",
       "\n",
       "    .dataframe tbody tr th {\n",
       "        vertical-align: top;\n",
       "    }\n",
       "\n",
       "    .dataframe thead th {\n",
       "        text-align: right;\n",
       "    }\n",
       "</style>\n",
       "<table border=\"1\" class=\"dataframe\">\n",
       "  <thead>\n",
       "    <tr style=\"text-align: right;\">\n",
       "      <th></th>\n",
       "      <th>0</th>\n",
       "    </tr>\n",
       "  </thead>\n",
       "  <tbody>\n",
       "    <tr>\n",
       "      <th>pixel0</th>\n",
       "      <td>NaN</td>\n",
       "    </tr>\n",
       "    <tr>\n",
       "      <th>pixel1</th>\n",
       "      <td>NaN</td>\n",
       "    </tr>\n",
       "    <tr>\n",
       "      <th>pixel2</th>\n",
       "      <td>NaN</td>\n",
       "    </tr>\n",
       "    <tr>\n",
       "      <th>pixel3</th>\n",
       "      <td>NaN</td>\n",
       "    </tr>\n",
       "    <tr>\n",
       "      <th>pixel4</th>\n",
       "      <td>NaN</td>\n",
       "    </tr>\n",
       "    <tr>\n",
       "      <th>...</th>\n",
       "      <td>...</td>\n",
       "    </tr>\n",
       "    <tr>\n",
       "      <th>pixel779</th>\n",
       "      <td>1.89681</td>\n",
       "    </tr>\n",
       "    <tr>\n",
       "      <th>pixel780</th>\n",
       "      <td>NaN</td>\n",
       "    </tr>\n",
       "    <tr>\n",
       "      <th>pixel781</th>\n",
       "      <td>NaN</td>\n",
       "    </tr>\n",
       "    <tr>\n",
       "      <th>pixel782</th>\n",
       "      <td>NaN</td>\n",
       "    </tr>\n",
       "    <tr>\n",
       "      <th>pixel783</th>\n",
       "      <td>NaN</td>\n",
       "    </tr>\n",
       "  </tbody>\n",
       "</table>\n",
       "<p>784 rows × 1 columns</p>\n",
       "</div>"
      ],
      "text/plain": [
       "                0\n",
       "pixel0        NaN\n",
       "pixel1        NaN\n",
       "pixel2        NaN\n",
       "pixel3        NaN\n",
       "pixel4        NaN\n",
       "...           ...\n",
       "pixel779  1.89681\n",
       "pixel780      NaN\n",
       "pixel781      NaN\n",
       "pixel782      NaN\n",
       "pixel783      NaN\n",
       "\n",
       "[784 rows x 1 columns]"
      ]
     },
     "execution_count": 80,
     "metadata": {},
     "output_type": "execute_result"
    }
   ],
   "source": [
    "pd.DataFrame(f_value,index=X.columns)"
   ]
  },
  {
   "cell_type": "code",
   "execution_count": 81,
   "metadata": {},
   "outputs": [
    {
     "name": "stdout",
     "output_type": "stream",
     "text": [
      "[0.00000000e+00 3.35551923e-03 1.35921610e-03 0.00000000e+00\n",
      " 0.00000000e+00 0.00000000e+00 0.00000000e+00 0.00000000e+00\n",
      " 3.31049997e-04 0.00000000e+00 0.00000000e+00 0.00000000e+00\n",
      " 0.00000000e+00 0.00000000e+00 0.00000000e+00 0.00000000e+00\n",
      " 0.00000000e+00 2.11492089e-04 4.08309595e-03 0.00000000e+00\n",
      " 7.17782818e-03 4.56499162e-05 0.00000000e+00 5.24613572e-03\n",
      " 1.36835355e-03 4.52210752e-03 3.07867609e-03 1.53228386e-03\n",
      " 4.31285146e-03 4.67701925e-03 5.04897388e-03 1.28839296e-03\n",
      " 1.36992594e-03 4.82317942e-03 9.56814828e-04 1.82430423e-03\n",
      " 7.41957917e-05 5.69107927e-03 2.02512495e-03 3.02085078e-03\n",
      " 9.70087190e-03 1.92870031e-04 7.03695278e-03 2.77482186e-03\n",
      " 5.44308663e-03 0.00000000e+00 1.07778362e-03 1.67286280e-03\n",
      " 0.00000000e+00 2.84075242e-04 0.00000000e+00 0.00000000e+00\n",
      " 1.48455785e-03 3.40813985e-03 9.14637018e-04 9.47030886e-04\n",
      " 0.00000000e+00 7.60787332e-04 0.00000000e+00 2.13285234e-03\n",
      " 1.07464358e-03 0.00000000e+00 5.05729065e-03 0.00000000e+00\n",
      " 2.60757947e-03 1.01058437e-02 1.31338876e-02 1.76747157e-02\n",
      " 3.01534501e-02 3.40330100e-02 4.45987268e-02 5.62191280e-02\n",
      " 4.50592372e-02 4.92527360e-02 3.93639224e-02 2.89462404e-02\n",
      " 1.96544947e-02 9.33093712e-03 2.73126246e-03 3.68355955e-03\n",
      " 0.00000000e+00 6.38507431e-03 0.00000000e+00 0.00000000e+00\n",
      " 0.00000000e+00 2.86151139e-03 4.71540521e-04 0.00000000e+00\n",
      " 0.00000000e+00 2.09569204e-03 4.39359124e-03 5.01523565e-03\n",
      " 6.03727859e-03 2.28630408e-02 3.44789932e-02 4.30801810e-02\n",
      " 6.42319237e-02 8.67279762e-02 9.60008590e-02 1.07434642e-01\n",
      " 1.18778723e-01 1.05261557e-01 8.16404328e-02 6.20765779e-02\n",
      " 3.58293661e-02 1.92260154e-02 3.22042824e-03 8.46218197e-03\n",
      " 3.97650684e-03 1.37069158e-03 8.03441228e-04 0.00000000e+00\n",
      " 0.00000000e+00 0.00000000e+00 4.52868160e-04 1.43428912e-03\n",
      " 5.82102274e-03 2.78354980e-03 1.10526674e-02 1.91998693e-02\n",
      " 3.96655688e-02 5.41575677e-02 7.62659153e-02 9.93622681e-02\n",
      " 1.19683678e-01 1.44400245e-01 1.55875439e-01 1.64363479e-01\n",
      " 1.50826277e-01 1.30417569e-01 9.31785812e-02 6.27955680e-02\n",
      " 3.88383221e-02 2.98313631e-02 5.83093788e-03 1.19067028e-02\n",
      " 6.94037414e-03 5.32301462e-03 0.00000000e+00 0.00000000e+00\n",
      " 3.54272844e-03 0.00000000e+00 0.00000000e+00 1.13556197e-03\n",
      " 3.35686239e-03 9.37193895e-03 1.97482004e-02 3.71395565e-02\n",
      " 7.17070606e-02 9.75632319e-02 1.26482165e-01 1.51225168e-01\n",
      " 1.82525043e-01 2.04741362e-01 2.19576895e-01 2.32716904e-01\n",
      " 2.17481426e-01 1.81510524e-01 1.31692761e-01 1.02454718e-01\n",
      " 7.73252064e-02 6.20364059e-02 4.68134240e-02 3.59752446e-02\n",
      " 3.21524608e-02 1.04211841e-02 0.00000000e+00 0.00000000e+00\n",
      " 0.00000000e+00 0.00000000e+00 0.00000000e+00 1.00972033e-02\n",
      " 7.32735270e-03 2.39896613e-02 3.83548968e-02 5.88574039e-02\n",
      " 7.79245932e-02 1.04208218e-01 1.19004967e-01 1.38574000e-01\n",
      " 1.44259526e-01 1.70853461e-01 1.81510011e-01 1.90380270e-01\n",
      " 1.79730587e-01 1.52203520e-01 1.35855120e-01 1.08545909e-01\n",
      " 9.88639949e-02 8.19059833e-02 6.76243131e-02 6.94012725e-02\n",
      " 4.94169893e-02 1.61410795e-02 5.06913302e-03 8.25305664e-03\n",
      " 0.00000000e+00 1.29704258e-03 5.88935055e-03 8.56910758e-03\n",
      " 1.79074188e-02 2.95232430e-02 4.26875988e-02 5.72699333e-02\n",
      " 7.11200845e-02 8.85795259e-02 9.19599569e-02 1.07577771e-01\n",
      " 1.08642715e-01 1.15712340e-01 1.11232456e-01 1.18267282e-01\n",
      " 1.22295681e-01 1.08169088e-01 1.17349976e-01 1.16713256e-01\n",
      " 1.00055998e-01 9.41484008e-02 8.35327631e-02 6.91656461e-02\n",
      " 5.69959904e-02 2.77678610e-02 3.93517783e-03 3.91346672e-03\n",
      " 2.53971746e-03 0.00000000e+00 6.94398517e-03 1.21948132e-02\n",
      " 2.41882014e-02 4.32594411e-02 5.88391250e-02 6.71757931e-02\n",
      " 7.29883127e-02 9.49323543e-02 1.22590745e-01 1.39044779e-01\n",
      " 1.42100179e-01 1.22924018e-01 1.05163892e-01 1.17361175e-01\n",
      " 1.14290848e-01 1.12085404e-01 1.21130057e-01 1.35399669e-01\n",
      " 1.28255747e-01 1.12538231e-01 8.63921197e-02 6.10528849e-02\n",
      " 5.11447482e-02 3.17994367e-02 0.00000000e+00 0.00000000e+00\n",
      " 1.23548623e-04 5.27042011e-03 6.37965818e-03 2.20219702e-02\n",
      " 3.69857267e-02 4.33691762e-02 5.16592415e-02 7.60459924e-02\n",
      " 9.08453008e-02 1.39397061e-01 1.82476358e-01 2.01469439e-01\n",
      " 1.57528518e-01 1.09176988e-01 1.00289172e-01 1.34216326e-01\n",
      " 1.16054624e-01 1.32174733e-01 1.47602629e-01 1.46069645e-01\n",
      " 1.42542489e-01 1.21299005e-01 9.24703918e-02 6.26026228e-02\n",
      " 4.37147752e-02 1.90089508e-02 3.49941514e-03 0.00000000e+00\n",
      " 0.00000000e+00 0.00000000e+00 8.37753779e-03 1.18069904e-02\n",
      " 2.65267322e-02 3.87819366e-02 4.65367498e-02 7.78006002e-02\n",
      " 1.21154665e-01 1.76834815e-01 2.23251394e-01 1.94840939e-01\n",
      " 1.25348141e-01 7.26577755e-02 1.14139748e-01 1.47689418e-01\n",
      " 1.19848444e-01 1.31439610e-01 1.55160258e-01 1.57985968e-01\n",
      " 1.42859495e-01 1.35854022e-01 1.02776194e-01 7.35174807e-02\n",
      " 3.29003005e-02 5.85915280e-03 2.16150037e-03 0.00000000e+00\n",
      " 4.82037402e-03 7.17324596e-03 7.01198788e-03 1.68888398e-02\n",
      " 1.26853130e-02 3.31637820e-02 4.93867123e-02 9.76919812e-02\n",
      " 1.63329449e-01 2.12342559e-01 2.11458345e-01 1.81760040e-01\n",
      " 1.16450282e-01 1.01309409e-01 1.73520130e-01 1.87825046e-01\n",
      " 1.24694802e-01 1.45492087e-01 1.78603180e-01 1.54958438e-01\n",
      " 1.34104230e-01 1.40653668e-01 1.15813379e-01 7.93077889e-02\n",
      " 3.42529480e-02 3.50041079e-03 1.17904848e-03 0.00000000e+00\n",
      " 4.67181834e-04 0.00000000e+00 5.40450159e-03 1.51908381e-03\n",
      " 1.86765383e-02 4.05558880e-02 6.36355268e-02 1.19402645e-01\n",
      " 1.99508660e-01 2.31301598e-01 2.15589981e-01 1.92268211e-01\n",
      " 1.70408064e-01 1.88257461e-01 2.58417672e-01 2.21565198e-01\n",
      " 1.40947057e-01 1.75189894e-01 1.82983547e-01 1.33062069e-01\n",
      " 1.28304907e-01 1.44852467e-01 1.36827427e-01 9.87725694e-02\n",
      " 3.68549152e-02 3.23431955e-03 8.31520727e-04 0.00000000e+00\n",
      " 1.51244074e-03 4.03358487e-03 3.04160039e-03 2.46131709e-03\n",
      " 8.81976346e-03 4.61976299e-02 8.83567718e-02 1.45622177e-01\n",
      " 2.16676446e-01 2.26376900e-01 2.15322355e-01 2.07358234e-01\n",
      " 1.99925431e-01 2.50788935e-01 2.84516959e-01 2.20213121e-01\n",
      " 1.75049904e-01 2.16500908e-01 1.79532583e-01 1.22937040e-01\n",
      " 1.23400865e-01 1.45823857e-01 1.47779352e-01 9.73436264e-02\n",
      " 4.38413552e-02 1.40610884e-02 0.00000000e+00 2.24503983e-03\n",
      " 0.00000000e+00 4.78683837e-03 2.91309293e-04 1.64316263e-04\n",
      " 1.60946901e-02 6.30612647e-02 1.13616524e-01 1.80052469e-01\n",
      " 2.21813297e-01 2.27870825e-01 1.98429629e-01 1.74646358e-01\n",
      " 1.81739825e-01 2.44383609e-01 2.78699221e-01 1.96004647e-01\n",
      " 2.08831329e-01 2.52153295e-01 1.77631471e-01 1.19967695e-01\n",
      " 1.34802965e-01 1.57661786e-01 1.41932378e-01 9.12741461e-02\n",
      " 4.01484156e-02 1.65610743e-03 0.00000000e+00 5.51526215e-03\n",
      " 0.00000000e+00 0.00000000e+00 0.00000000e+00 5.24493384e-03\n",
      " 2.44474097e-02 6.43804154e-02 1.30060453e-01 1.88892975e-01\n",
      " 2.31831026e-01 2.20022958e-01 1.91172531e-01 1.68141175e-01\n",
      " 1.93180913e-01 2.57460825e-01 2.65440906e-01 2.01330597e-01\n",
      " 2.31622303e-01 2.31528042e-01 1.63513974e-01 1.26378213e-01\n",
      " 1.51844856e-01 1.56714655e-01 1.26030068e-01 8.47839835e-02\n",
      " 3.87692566e-02 1.05406149e-02 8.36696110e-03 0.00000000e+00\n",
      " 1.12364656e-03 2.87932989e-03 0.00000000e+00 5.06016497e-03\n",
      " 3.07957915e-02 8.02261839e-02 1.38766933e-01 1.92081421e-01\n",
      " 2.09265183e-01 1.97549393e-01 1.88698375e-01 1.85806074e-01\n",
      " 2.15924639e-01 2.66385276e-01 2.49514417e-01 1.86616898e-01\n",
      " 2.14647946e-01 1.87396015e-01 1.35094932e-01 1.37711965e-01\n",
      " 1.74195988e-01 1.57091055e-01 1.10505144e-01 6.45262655e-02\n",
      " 3.15254996e-02 8.59635888e-03 2.64348528e-03 0.00000000e+00\n",
      " 0.00000000e+00 2.03255550e-03 0.00000000e+00 5.49066512e-03\n",
      " 3.11013196e-02 8.56045999e-02 1.40620310e-01 1.80505344e-01\n",
      " 1.90769472e-01 1.91421717e-01 1.94001443e-01 1.91968703e-01\n",
      " 2.13203256e-01 2.50817078e-01 2.00927328e-01 1.55346752e-01\n",
      " 1.54306634e-01 1.24082751e-01 1.29237188e-01 1.67732444e-01\n",
      " 1.79399127e-01 1.45354517e-01 1.03919815e-01 5.86320310e-02\n",
      " 2.93940526e-02 8.56148159e-03 9.28625023e-03 4.17415417e-03\n",
      " 4.52096006e-04 2.07875659e-03 6.08899044e-03 2.01210704e-02\n",
      " 4.51578951e-02 9.96562147e-02 1.55504071e-01 1.90779905e-01\n",
      " 1.95879648e-01 1.94627981e-01 2.13780894e-01 2.14545349e-01\n",
      " 1.96778772e-01 1.99399040e-01 1.39016558e-01 1.03182511e-01\n",
      " 9.76893494e-02 1.11471614e-01 1.57387289e-01 1.91715674e-01\n",
      " 1.79320683e-01 1.32091204e-01 8.98950024e-02 5.25408129e-02\n",
      " 3.20505842e-02 9.07634150e-03 2.15685982e-03 0.00000000e+00\n",
      " 5.31612656e-03 1.11414014e-03 1.24660103e-02 1.33590542e-02\n",
      " 5.26234055e-02 1.09101312e-01 1.63783667e-01 2.04378337e-01\n",
      " 2.13461467e-01 2.18670603e-01 2.26488929e-01 2.08315282e-01\n",
      " 1.73251636e-01 1.46212493e-01 8.91115707e-02 7.63601901e-02\n",
      " 8.14467830e-02 1.37546475e-01 1.77173292e-01 1.89175025e-01\n",
      " 1.54977821e-01 1.10779905e-01 8.70813700e-02 5.80433060e-02\n",
      " 3.72416229e-02 1.04336492e-02 0.00000000e+00 3.46720733e-04\n",
      " 0.00000000e+00 4.09445071e-03 9.77720509e-03 2.54645810e-02\n",
      " 6.07318159e-02 1.02388270e-01 1.68417448e-01 2.17050747e-01\n",
      " 2.36022528e-01 2.37805584e-01 2.12159336e-01 1.74439543e-01\n",
      " 1.39870542e-01 1.06091123e-01 6.90228823e-02 6.53916040e-02\n",
      " 1.02392533e-01 1.44986896e-01 1.57430729e-01 1.44918920e-01\n",
      " 1.15308757e-01 8.86654329e-02 6.42077026e-02 4.98099895e-02\n",
      " 2.56644778e-02 1.61281618e-02 4.85277759e-03 4.51802089e-04\n",
      " 0.00000000e+00 4.92056696e-03 3.92563475e-03 2.25785874e-02\n",
      " 4.75990652e-02 8.92714198e-02 1.46018239e-01 1.97379565e-01\n",
      " 2.31392597e-01 2.31591142e-01 1.90647393e-01 1.34199071e-01\n",
      " 9.88192835e-02 6.90786555e-02 6.87337206e-02 7.97063460e-02\n",
      " 1.01631736e-01 1.17570974e-01 1.18876258e-01 8.99878859e-02\n",
      " 8.32797927e-02 5.82399269e-02 4.91940060e-02 3.14431041e-02\n",
      " 2.02055222e-02 8.44290908e-03 0.00000000e+00 3.85312304e-04\n",
      " 5.27349459e-03 1.83555530e-03 6.72168991e-03 1.43092116e-02\n",
      " 3.21284944e-02 6.55811322e-02 1.07840557e-01 1.45575142e-01\n",
      " 1.83144191e-01 2.00520219e-01 1.93121086e-01 1.59722850e-01\n",
      " 1.37147761e-01 1.18770123e-01 1.15449201e-01 1.02013869e-01\n",
      " 1.00197429e-01 9.34446260e-02 6.75823803e-02 5.65783874e-02\n",
      " 4.62705064e-02 3.27810937e-02 3.32673943e-02 2.19023077e-02\n",
      " 1.27534907e-02 9.98934078e-03 0.00000000e+00 0.00000000e+00\n",
      " 4.44886914e-03 3.79250250e-03 2.12618923e-03 6.16331639e-03\n",
      " 1.62401996e-02 3.48527386e-02 5.02393109e-02 8.13305088e-02\n",
      " 1.04440733e-01 1.33743219e-01 1.52875340e-01 1.73659368e-01\n",
      " 1.87466003e-01 1.76577936e-01 1.52810551e-01 1.18571207e-01\n",
      " 9.05982684e-02 7.11887695e-02 5.17178327e-02 2.46547684e-02\n",
      " 2.57490000e-02 1.74547091e-02 9.67319054e-03 9.38062453e-03\n",
      " 5.56784973e-03 0.00000000e+00 4.72447306e-04 0.00000000e+00\n",
      " 2.77595452e-03 0.00000000e+00 2.47090897e-04 6.67045805e-04\n",
      " 1.28883499e-03 5.70541718e-03 1.90973830e-02 3.02238344e-02\n",
      " 4.73440718e-02 6.48482718e-02 8.89364995e-02 1.03075008e-01\n",
      " 1.23588980e-01 1.21083528e-01 1.03467540e-01 8.58383497e-02\n",
      " 7.38332819e-02 6.11296324e-02 4.27080655e-02 2.45990000e-02\n",
      " 1.33497137e-02 1.05442419e-02 0.00000000e+00 1.29297676e-04\n",
      " 2.87289148e-03 0.00000000e+00 0.00000000e+00 0.00000000e+00\n",
      " 0.00000000e+00 5.76436358e-05 0.00000000e+00 0.00000000e+00\n",
      " 3.86802941e-03 5.83092406e-03 1.21248468e-02 2.42242062e-02\n",
      " 3.53972292e-02 5.85333594e-02 8.50142873e-02 1.02605732e-01\n",
      " 1.17728674e-01 1.10358787e-01 1.01510542e-01 8.76603471e-02\n",
      " 7.02756472e-02 5.10922384e-02 3.84534218e-02 2.27417245e-02\n",
      " 1.17174299e-02 1.04518896e-02 5.59753477e-03 5.24936561e-04\n",
      " 1.01570176e-02 0.00000000e+00 4.71898184e-03 1.87985992e-03\n",
      " 0.00000000e+00 1.85451788e-03 0.00000000e+00 3.61629591e-05\n",
      " 2.18409999e-03 1.52907705e-03 8.06360911e-03 1.69202412e-02\n",
      " 2.37879362e-02 4.94521697e-02 5.40471901e-02 6.60296670e-02\n",
      " 7.63804824e-02 7.03417258e-02 6.83934830e-02 5.63279927e-02\n",
      " 4.70458154e-02 2.89626572e-02 1.93536184e-02 1.28633600e-02\n",
      " 6.82448973e-03 4.65690202e-03 7.03105277e-03 3.23434492e-04\n",
      " 3.71633562e-03 7.95921330e-03 5.71059829e-03 1.28736154e-03\n",
      " 0.00000000e+00 7.80918472e-04 0.00000000e+00 0.00000000e+00\n",
      " 0.00000000e+00 0.00000000e+00 0.00000000e+00 0.00000000e+00\n",
      " 0.00000000e+00 4.42407521e-03 1.34512503e-02 4.38954290e-03\n",
      " 7.86121629e-03 1.41320151e-02 9.61922728e-03 8.72856437e-03\n",
      " 8.11445969e-03 7.90715533e-03 1.45631850e-03 4.39700261e-03\n",
      " 2.95872507e-03 7.81219939e-04 2.15459892e-03 0.00000000e+00\n",
      " 3.21065734e-03 0.00000000e+00 1.85262798e-03 8.63497761e-04]\n"
     ]
    }
   ],
   "source": [
    "### 使用互信息值进行过滤\n",
    "from sklearn.feature_selection import mutual_info_classif as MIC\n",
    "result = MIC(X,y)\n",
    "print(result)\n",
    "### 互信息值的计算这么消耗时间吗？看来特征数量特别多时，不适合用这种方法"
   ]
  },
  {
   "cell_type": "markdown",
   "metadata": {},
   "source": [
    "除这两种方法以外，还可以使用机器学习模型来帮我们评估每个特征的重要性  \n",
    "但是用于评估的模型必须要天然拥有特征系数或者特征重要性这些东西  \n",
    "嵌入法和包装法也是以此为基础进行计算的  "
   ]
  },
  {
   "cell_type": "code",
   "execution_count": 83,
   "metadata": {},
   "outputs": [],
   "source": [
    "from sklearn.ensemble import RandomForestClassifier as RFC\n",
    "#模型实例化\n",
    "rfc = RFC(n_estimators=10,random_state=0)\n",
    "#模型训练\n",
    "rfc = rfc.fit(X,y)"
   ]
  },
  {
   "cell_type": "code",
   "execution_count": 84,
   "metadata": {},
   "outputs": [
    {
     "data": {
      "text/plain": [
       "array([0.00000000e+00, 0.00000000e+00, 0.00000000e+00, 0.00000000e+00,\n",
       "       0.00000000e+00, 0.00000000e+00, 0.00000000e+00, 0.00000000e+00,\n",
       "       0.00000000e+00, 0.00000000e+00, 0.00000000e+00, 0.00000000e+00,\n",
       "       0.00000000e+00, 0.00000000e+00, 0.00000000e+00, 0.00000000e+00,\n",
       "       0.00000000e+00, 0.00000000e+00, 0.00000000e+00, 0.00000000e+00,\n",
       "       0.00000000e+00, 0.00000000e+00, 0.00000000e+00, 0.00000000e+00,\n",
       "       0.00000000e+00, 0.00000000e+00, 0.00000000e+00, 0.00000000e+00,\n",
       "       0.00000000e+00, 0.00000000e+00, 0.00000000e+00, 0.00000000e+00,\n",
       "       0.00000000e+00, 0.00000000e+00, 4.96726660e-06, 0.00000000e+00,\n",
       "       0.00000000e+00, 0.00000000e+00, 0.00000000e+00, 4.39623410e-06,\n",
       "       7.35101726e-06, 0.00000000e+00, 0.00000000e+00, 0.00000000e+00,\n",
       "       4.70425050e-06, 0.00000000e+00, 0.00000000e+00, 0.00000000e+00,\n",
       "       0.00000000e+00, 0.00000000e+00, 5.09114204e-06, 0.00000000e+00,\n",
       "       0.00000000e+00, 0.00000000e+00, 0.00000000e+00, 0.00000000e+00,\n",
       "       0.00000000e+00, 0.00000000e+00, 0.00000000e+00, 0.00000000e+00,\n",
       "       0.00000000e+00, 0.00000000e+00, 0.00000000e+00, 1.04375545e-05,\n",
       "       0.00000000e+00, 0.00000000e+00, 5.29478959e-05, 3.21066639e-04,\n",
       "       3.72896708e-05, 7.84734515e-05, 3.81080672e-05, 4.28007718e-05,\n",
       "       7.70708109e-06, 4.96573475e-05, 1.07617170e-04, 1.68715849e-05,\n",
       "       1.17836211e-05, 2.55943987e-05, 0.00000000e+00, 0.00000000e+00,\n",
       "       0.00000000e+00, 0.00000000e+00, 0.00000000e+00, 0.00000000e+00,\n",
       "       0.00000000e+00, 0.00000000e+00, 0.00000000e+00, 0.00000000e+00,\n",
       "       0.00000000e+00, 4.98169346e-06, 4.94027841e-06, 2.83311486e-05,\n",
       "       4.09543756e-05, 1.72821858e-04, 9.57100915e-05, 2.45907321e-04,\n",
       "       1.83422252e-04, 1.67021648e-03, 1.33678817e-03, 4.97681606e-04,\n",
       "       9.81528697e-04, 2.57107282e-03, 1.29146589e-03, 1.65060000e-03,\n",
       "       1.86071384e-04, 9.53324105e-05, 2.15756468e-05, 1.93742313e-05,\n",
       "       1.76038786e-05, 1.04294263e-05, 0.00000000e+00, 0.00000000e+00,\n",
       "       0.00000000e+00, 0.00000000e+00, 0.00000000e+00, 0.00000000e+00,\n",
       "       0.00000000e+00, 2.67461542e-05, 6.87034035e-06, 7.72427467e-05,\n",
       "       1.32367326e-04, 1.90286903e-04, 5.95754392e-04, 1.20094659e-03,\n",
       "       8.38179934e-04, 1.55287193e-03, 1.25015678e-03, 3.10076865e-03,\n",
       "       3.53710687e-03, 6.09457703e-04, 4.40384898e-04, 6.77374025e-04,\n",
       "       5.30201989e-04, 1.79987666e-04, 1.82267211e-04, 5.92697964e-05,\n",
       "       1.80767363e-05, 5.24921596e-06, 0.00000000e+00, 0.00000000e+00,\n",
       "       0.00000000e+00, 0.00000000e+00, 0.00000000e+00, 0.00000000e+00,\n",
       "       3.63793673e-05, 6.43483201e-05, 8.13740620e-05, 1.76906929e-04,\n",
       "       3.00785753e-04, 2.00237912e-03, 2.17988175e-03, 8.02080061e-04,\n",
       "       5.59932650e-03, 5.32674802e-03, 9.82923375e-03, 4.75128066e-03,\n",
       "       7.25896751e-03, 2.57320673e-03, 6.13199153e-03, 2.79002672e-03,\n",
       "       8.60740254e-04, 1.68934107e-03, 6.62626894e-04, 3.72068454e-04,\n",
       "       1.11864559e-04, 5.01402939e-06, 2.59729852e-06, 0.00000000e+00,\n",
       "       0.00000000e+00, 0.00000000e+00, 0.00000000e+00, 5.24370634e-06,\n",
       "       5.39166565e-05, 3.11018823e-05, 2.34878167e-04, 3.89033229e-04,\n",
       "       2.30902923e-03, 2.57256846e-03, 1.38900529e-03, 2.65304800e-03,\n",
       "       4.67867505e-03, 3.49571544e-03, 1.74013763e-03, 4.74732141e-03,\n",
       "       2.19504075e-03, 2.01126998e-03, 2.39322271e-03, 1.94485134e-03,\n",
       "       1.91736734e-03, 1.26111979e-03, 7.17005718e-04, 1.41834376e-03,\n",
       "       2.47847664e-04, 4.23798505e-05, 0.00000000e+00, 0.00000000e+00,\n",
       "       0.00000000e+00, 0.00000000e+00, 2.64644966e-06, 1.02232772e-05,\n",
       "       4.19366739e-05, 1.51187645e-04, 3.84353726e-04, 5.75432437e-04,\n",
       "       1.20251320e-03, 1.11728097e-03, 1.43117176e-03, 1.85993731e-03,\n",
       "       3.18900495e-03, 4.24721472e-03, 7.15525695e-03, 4.59547276e-03,\n",
       "       7.86762226e-03, 4.41108734e-03, 1.54578735e-03, 1.06705126e-03,\n",
       "       1.49258829e-03, 1.28480766e-03, 9.93716659e-04, 1.33748351e-03,\n",
       "       1.04061523e-03, 1.40851781e-04, 2.46917895e-05, 0.00000000e+00,\n",
       "       0.00000000e+00, 0.00000000e+00, 1.23372533e-05, 1.91675705e-05,\n",
       "       2.16315147e-04, 2.36117271e-04, 8.51271969e-04, 7.04486223e-04,\n",
       "       1.07859246e-03, 1.64029329e-03, 2.90544958e-03, 3.15084018e-03,\n",
       "       4.87802961e-03, 2.34634670e-03, 3.93852105e-03, 5.43460799e-03,\n",
       "       5.86237142e-03, 3.15346289e-03, 6.82349562e-03, 4.34223264e-03,\n",
       "       3.86949586e-03, 2.03220256e-03, 7.00743969e-04, 1.01816134e-03,\n",
       "       6.52755553e-04, 1.05428274e-04, 4.64072405e-06, 8.60096309e-06,\n",
       "       0.00000000e+00, 9.18662879e-06, 7.05716770e-06, 2.57599316e-05,\n",
       "       6.82385198e-05, 2.48904426e-04, 1.27880958e-03, 1.34106798e-03,\n",
       "       9.88188421e-04, 2.10154796e-03, 3.36772807e-03, 6.04369789e-03,\n",
       "       3.07695369e-03, 3.00021995e-03, 3.37748090e-03, 4.86394760e-03,\n",
       "       3.54139826e-03, 5.97819039e-03, 1.71616932e-03, 4.15596755e-03,\n",
       "       2.47392287e-03, 2.36136390e-03, 1.63397286e-03, 4.48393070e-04,\n",
       "       5.54092223e-04, 4.14227893e-05, 0.00000000e+00, 0.00000000e+00,\n",
       "       0.00000000e+00, 0.00000000e+00, 5.26899634e-06, 1.56088268e-04,\n",
       "       1.13966961e-04, 1.74915348e-04, 6.44627258e-04, 5.68303338e-04,\n",
       "       1.63319806e-03, 4.62162655e-03, 5.83028006e-03, 5.84100388e-03,\n",
       "       2.83270210e-03, 2.14239040e-03, 3.35948722e-03, 2.60839810e-03,\n",
       "       2.50701816e-03, 4.82670205e-03, 5.89666662e-03, 3.04992055e-03,\n",
       "       3.41911464e-03, 1.12637810e-03, 7.01707700e-04, 2.10535503e-04,\n",
       "       2.04943891e-04, 6.40794860e-05, 2.64614091e-06, 0.00000000e+00,\n",
       "       0.00000000e+00, 0.00000000e+00, 3.52876307e-06, 1.73010344e-05,\n",
       "       3.23154454e-04, 1.18730749e-04, 5.01029809e-04, 1.50202308e-03,\n",
       "       1.53700272e-03, 6.11456403e-03, 4.34902573e-03, 3.35546394e-03,\n",
       "       5.87789239e-03, 2.51293898e-03, 3.17370607e-03, 3.45751913e-03,\n",
       "       2.29793132e-03, 4.17392058e-03, 5.82675966e-03, 2.83060606e-03,\n",
       "       3.79048860e-03, 1.04936114e-03, 7.03677686e-04, 6.28439770e-04,\n",
       "       1.15259208e-04, 7.44590415e-05, 1.04994603e-05, 0.00000000e+00,\n",
       "       0.00000000e+00, 0.00000000e+00, 1.58480368e-05, 8.38015968e-06,\n",
       "       7.29727487e-05, 4.58356454e-04, 5.41496181e-04, 1.05167245e-03,\n",
       "       1.64596693e-03, 3.00082596e-03, 5.53132168e-03, 4.04488155e-03,\n",
       "       2.62974709e-03, 5.05500552e-03, 6.96693959e-03, 3.39745427e-03,\n",
       "       3.32871913e-03, 3.41607543e-03, 2.74289623e-03, 1.34605792e-03,\n",
       "       1.28266397e-03, 2.86907034e-03, 4.37592501e-03, 5.70010069e-04,\n",
       "       6.28420535e-05, 8.66985846e-06, 1.88614134e-05, 0.00000000e+00,\n",
       "       0.00000000e+00, 5.07941099e-06, 0.00000000e+00, 3.30247867e-05,\n",
       "       4.07335970e-05, 2.06942431e-04, 1.13712177e-03, 9.31937042e-04,\n",
       "       4.14319758e-03, 5.55092635e-03, 3.00151203e-03, 3.90947224e-03,\n",
       "       3.56773974e-03, 6.51955884e-03, 9.53149654e-03, 1.04694058e-02,\n",
       "       2.78585321e-03, 3.32633681e-03, 4.92832778e-03, 1.47824275e-03,\n",
       "       9.11054702e-04, 7.61598938e-04, 2.70451017e-03, 5.35404177e-04,\n",
       "       9.96457782e-05, 3.14222399e-05, 0.00000000e+00, 0.00000000e+00,\n",
       "       0.00000000e+00, 0.00000000e+00, 3.96978697e-06, 5.21588243e-06,\n",
       "       4.83166769e-05, 2.73878244e-04, 7.87729782e-04, 1.50109957e-03,\n",
       "       4.68533446e-03, 3.87612563e-03, 5.67003476e-03, 2.36023388e-03,\n",
       "       5.93148815e-03, 4.71373442e-03, 5.52560277e-03, 1.02884076e-02,\n",
       "       4.29557610e-03, 1.12774927e-02, 2.77441947e-03, 2.72491516e-03,\n",
       "       1.44030628e-03, 4.10553375e-03, 2.64943685e-04, 5.11833536e-04,\n",
       "       1.40472270e-04, 1.79084679e-05, 1.77952716e-05, 5.14181932e-06,\n",
       "       0.00000000e+00, 0.00000000e+00, 0.00000000e+00, 1.05843388e-05,\n",
       "       1.27523758e-04, 6.43468836e-04, 8.31565905e-04, 1.70449912e-03,\n",
       "       1.97585662e-03, 1.03326213e-02, 6.51715463e-03, 2.51474500e-03,\n",
       "       4.45321356e-03, 9.25048608e-03, 5.64462078e-03, 4.37348237e-03,\n",
       "       2.48720699e-03, 6.86810239e-03, 1.74833765e-03, 1.26700872e-03,\n",
       "       9.76402337e-04, 1.14948866e-03, 1.12740475e-03, 3.55493697e-04,\n",
       "       1.65851188e-04, 5.68633276e-05, 0.00000000e+00, 0.00000000e+00,\n",
       "       0.00000000e+00, 0.00000000e+00, 1.66021879e-05, 5.45348998e-05,\n",
       "       4.59211388e-05, 2.34098914e-04, 5.06234432e-03, 4.27063479e-03,\n",
       "       2.39257951e-03, 4.61990114e-03, 3.30496636e-03, 3.33854229e-03,\n",
       "       3.32969638e-03, 6.80014826e-03, 2.53704828e-03, 1.90375781e-03,\n",
       "       2.48951700e-03, 3.25158138e-03, 2.31606267e-03, 1.80236457e-03,\n",
       "       1.17266716e-03, 8.52676338e-04, 4.79005366e-04, 3.50563863e-04,\n",
       "       1.56906559e-04, 2.49268946e-05, 1.03169010e-05, 8.82122072e-06,\n",
       "       0.00000000e+00, 0.00000000e+00, 0.00000000e+00, 5.90546235e-05,\n",
       "       7.88704875e-05, 8.93634610e-04, 6.94020542e-04, 1.20345523e-03,\n",
       "       2.54044035e-03, 2.83230622e-03, 4.09933983e-03, 3.29395754e-03,\n",
       "       7.25903583e-03, 9.87880420e-03, 1.00977121e-02, 3.13706882e-03,\n",
       "       1.45463444e-03, 2.30625167e-03, 4.36681075e-03, 1.40686900e-03,\n",
       "       7.71080832e-04, 4.72573500e-04, 6.92470927e-04, 2.10882278e-04,\n",
       "       1.59887529e-04, 4.25095501e-05, 9.34580618e-06, 5.17727569e-06,\n",
       "       0.00000000e+00, 0.00000000e+00, 8.49057021e-06, 8.09379015e-05,\n",
       "       1.52667865e-04, 2.94682754e-04, 1.35550050e-03, 4.49735800e-03,\n",
       "       1.28105089e-03, 2.31970006e-03, 2.34781587e-03, 1.27636021e-02,\n",
       "       2.19523640e-03, 2.41654975e-03, 2.10844302e-03, 1.71325263e-03,\n",
       "       8.69359356e-04, 3.91492035e-03, 6.91924396e-03, 1.10238422e-03,\n",
       "       1.33621731e-03, 1.34601819e-03, 9.33978020e-04, 2.82706898e-04,\n",
       "       1.17855133e-04, 7.23606373e-05, 0.00000000e+00, 0.00000000e+00,\n",
       "       0.00000000e+00, 0.00000000e+00, 7.93842272e-06, 2.30929786e-04,\n",
       "       1.09578044e-04, 9.39787779e-04, 2.50398713e-03, 1.77156509e-03,\n",
       "       2.03739208e-03, 9.54215286e-03, 2.52326238e-03, 2.97043796e-03,\n",
       "       4.37234458e-03, 1.99656347e-03, 3.08114892e-03, 1.65516988e-03,\n",
       "       1.07792201e-03, 2.44342936e-03, 1.22032946e-03, 5.26252267e-03,\n",
       "       8.27756677e-04, 8.44727742e-04, 3.68115383e-04, 1.73202448e-04,\n",
       "       1.26854745e-04, 1.52414678e-05, 1.04038762e-05, 0.00000000e+00,\n",
       "       0.00000000e+00, 0.00000000e+00, 0.00000000e+00, 3.76744549e-05,\n",
       "       1.83409930e-04, 1.45882648e-03, 1.00645114e-03, 3.27870252e-03,\n",
       "       2.13913782e-03, 6.13495296e-03, 3.50175122e-03, 3.52761230e-03,\n",
       "       2.75623799e-03, 3.97448421e-03, 1.44302862e-03, 1.75858337e-03,\n",
       "       1.51206834e-03, 1.46700318e-03, 9.08321557e-04, 2.22925996e-03,\n",
       "       1.48254286e-03, 8.57378425e-04, 3.99971776e-04, 5.11110295e-04,\n",
       "       4.36565498e-05, 2.71405310e-05, 0.00000000e+00, 0.00000000e+00,\n",
       "       0.00000000e+00, 0.00000000e+00, 4.68939741e-06, 6.85322336e-05,\n",
       "       7.32909456e-04, 3.69494001e-04, 9.37742251e-04, 3.11084738e-03,\n",
       "       2.51401499e-03, 4.48363496e-03, 2.22316180e-03, 1.09418645e-03,\n",
       "       1.98315806e-03, 1.07395133e-03, 1.21395404e-03, 1.90010236e-03,\n",
       "       1.07770399e-03, 9.46524339e-04, 7.22390654e-04, 8.23678460e-04,\n",
       "       4.86429638e-04, 1.69959091e-03, 2.30072266e-04, 1.58290498e-04,\n",
       "       7.08265381e-05, 1.03258860e-05, 0.00000000e+00, 0.00000000e+00,\n",
       "       0.00000000e+00, 0.00000000e+00, 0.00000000e+00, 2.37481499e-05,\n",
       "       1.24712280e-04, 1.34419610e-04, 7.17713513e-04, 9.41939756e-04,\n",
       "       4.60329650e-03, 4.77462409e-03, 2.66748761e-03, 2.03891226e-03,\n",
       "       1.56470228e-03, 1.41617812e-03, 1.28207400e-03, 1.42887646e-03,\n",
       "       8.46671326e-04, 1.77447428e-03, 1.51782753e-03, 6.33095101e-04,\n",
       "       6.30765641e-04, 2.88161403e-04, 3.05029795e-04, 1.12466566e-04,\n",
       "       2.75681464e-05, 4.55441849e-06, 5.16468244e-06, 0.00000000e+00,\n",
       "       0.00000000e+00, 0.00000000e+00, 5.08305424e-06, 4.89332518e-06,\n",
       "       2.46008387e-05, 8.31376723e-05, 4.79932393e-04, 3.30739912e-04,\n",
       "       1.10543090e-03, 3.08453861e-03, 4.17801871e-03, 2.49670681e-03,\n",
       "       4.16378285e-03, 5.66440415e-03, 7.09175694e-03, 2.36066429e-03,\n",
       "       1.03455291e-03, 5.95763775e-04, 8.25377463e-04, 3.50173207e-04,\n",
       "       4.44834129e-04, 2.05457739e-04, 5.33080607e-05, 4.73933260e-05,\n",
       "       3.56526224e-05, 0.00000000e+00, 0.00000000e+00, 0.00000000e+00,\n",
       "       0.00000000e+00, 0.00000000e+00, 0.00000000e+00, 4.46238647e-06,\n",
       "       2.83095572e-05, 5.78206819e-05, 4.26331449e-04, 2.66286043e-04,\n",
       "       4.55553332e-04, 1.15799246e-03, 1.06486385e-03, 2.11733743e-03,\n",
       "       1.66150100e-03, 8.66222042e-04, 6.60990575e-04, 2.55402546e-03,\n",
       "       8.20486729e-04, 4.02940501e-04, 3.85855702e-04, 2.47553529e-04,\n",
       "       1.37233373e-04, 1.16468104e-04, 4.81919631e-05, 3.69201614e-05,\n",
       "       9.72640279e-06, 0.00000000e+00, 0.00000000e+00, 0.00000000e+00,\n",
       "       0.00000000e+00, 0.00000000e+00, 0.00000000e+00, 0.00000000e+00,\n",
       "       0.00000000e+00, 4.09401975e-05, 2.97450544e-05, 1.83375003e-04,\n",
       "       3.00031936e-04, 9.79359848e-04, 4.42908891e-04, 3.62099959e-04,\n",
       "       6.54463181e-04, 8.79186101e-04, 4.47248554e-04, 6.65237461e-04,\n",
       "       6.91068725e-04, 3.22617137e-04, 4.43746743e-04, 2.16706421e-04,\n",
       "       3.38144020e-04, 7.56933474e-05, 1.79747927e-05, 0.00000000e+00,\n",
       "       0.00000000e+00, 0.00000000e+00, 0.00000000e+00, 0.00000000e+00,\n",
       "       0.00000000e+00, 0.00000000e+00, 0.00000000e+00, 0.00000000e+00,\n",
       "       7.44476502e-06, 1.16079201e-05, 0.00000000e+00, 1.46280748e-05,\n",
       "       5.17941553e-06, 5.09921173e-05, 7.41857827e-05, 3.93379316e-04,\n",
       "       2.47452360e-04, 3.13251304e-04, 3.66999099e-04, 1.30812201e-04,\n",
       "       1.49054545e-04, 8.38358796e-05, 1.24210033e-04, 4.89363342e-05,\n",
       "       1.42399445e-05, 4.85723858e-06, 0.00000000e+00, 1.54516611e-05,\n",
       "       0.00000000e+00, 0.00000000e+00, 0.00000000e+00, 0.00000000e+00,\n",
       "       0.00000000e+00, 0.00000000e+00, 0.00000000e+00, 0.00000000e+00,\n",
       "       0.00000000e+00, 0.00000000e+00, 0.00000000e+00, 0.00000000e+00,\n",
       "       0.00000000e+00, 0.00000000e+00, 9.68555485e-06, 0.00000000e+00,\n",
       "       4.37879533e-06, 0.00000000e+00, 0.00000000e+00, 1.01252722e-05,\n",
       "       0.00000000e+00, 0.00000000e+00, 0.00000000e+00, 0.00000000e+00,\n",
       "       7.93909865e-06, 0.00000000e+00, 0.00000000e+00, 0.00000000e+00,\n",
       "       0.00000000e+00, 0.00000000e+00, 0.00000000e+00, 0.00000000e+00])"
      ]
     },
     "execution_count": 84,
     "metadata": {},
     "output_type": "execute_result"
    }
   ],
   "source": [
    "rfc.feature_importances_"
   ]
  },
  {
   "cell_type": "code",
   "execution_count": 85,
   "metadata": {},
   "outputs": [
    {
     "data": {
      "text/html": [
       "<div>\n",
       "<style scoped>\n",
       "    .dataframe tbody tr th:only-of-type {\n",
       "        vertical-align: middle;\n",
       "    }\n",
       "\n",
       "    .dataframe tbody tr th {\n",
       "        vertical-align: top;\n",
       "    }\n",
       "\n",
       "    .dataframe thead th {\n",
       "        text-align: right;\n",
       "    }\n",
       "</style>\n",
       "<table border=\"1\" class=\"dataframe\">\n",
       "  <thead>\n",
       "    <tr style=\"text-align: right;\">\n",
       "      <th></th>\n",
       "      <th>0</th>\n",
       "    </tr>\n",
       "  </thead>\n",
       "  <tbody>\n",
       "    <tr>\n",
       "      <th>pixel0</th>\n",
       "      <td>0.0</td>\n",
       "    </tr>\n",
       "    <tr>\n",
       "      <th>pixel1</th>\n",
       "      <td>0.0</td>\n",
       "    </tr>\n",
       "    <tr>\n",
       "      <th>pixel2</th>\n",
       "      <td>0.0</td>\n",
       "    </tr>\n",
       "    <tr>\n",
       "      <th>pixel3</th>\n",
       "      <td>0.0</td>\n",
       "    </tr>\n",
       "    <tr>\n",
       "      <th>pixel4</th>\n",
       "      <td>0.0</td>\n",
       "    </tr>\n",
       "    <tr>\n",
       "      <th>...</th>\n",
       "      <td>...</td>\n",
       "    </tr>\n",
       "    <tr>\n",
       "      <th>pixel779</th>\n",
       "      <td>0.0</td>\n",
       "    </tr>\n",
       "    <tr>\n",
       "      <th>pixel780</th>\n",
       "      <td>0.0</td>\n",
       "    </tr>\n",
       "    <tr>\n",
       "      <th>pixel781</th>\n",
       "      <td>0.0</td>\n",
       "    </tr>\n",
       "    <tr>\n",
       "      <th>pixel782</th>\n",
       "      <td>0.0</td>\n",
       "    </tr>\n",
       "    <tr>\n",
       "      <th>pixel783</th>\n",
       "      <td>0.0</td>\n",
       "    </tr>\n",
       "  </tbody>\n",
       "</table>\n",
       "<p>784 rows × 1 columns</p>\n",
       "</div>"
      ],
      "text/plain": [
       "            0\n",
       "pixel0    0.0\n",
       "pixel1    0.0\n",
       "pixel2    0.0\n",
       "pixel3    0.0\n",
       "pixel4    0.0\n",
       "...       ...\n",
       "pixel779  0.0\n",
       "pixel780  0.0\n",
       "pixel781  0.0\n",
       "pixel782  0.0\n",
       "pixel783  0.0\n",
       "\n",
       "[784 rows x 1 columns]"
      ]
     },
     "execution_count": 85,
     "metadata": {},
     "output_type": "execute_result"
    }
   ],
   "source": [
    "pd.DataFrame(rfc.feature_importances_, index = X.columns)"
   ]
  },
  {
   "cell_type": "code",
   "execution_count": null,
   "metadata": {},
   "outputs": [],
   "source": []
  }
 ],
 "metadata": {
  "kernelspec": {
   "display_name": "Python 3",
   "language": "python",
   "name": "python3"
  },
  "language_info": {
   "codemirror_mode": {
    "name": "ipython",
    "version": 3
   },
   "file_extension": ".py",
   "mimetype": "text/x-python",
   "name": "python",
   "nbconvert_exporter": "python",
   "pygments_lexer": "ipython3",
   "version": "3.6.10"
  }
 },
 "nbformat": 4,
 "nbformat_minor": 4
}
